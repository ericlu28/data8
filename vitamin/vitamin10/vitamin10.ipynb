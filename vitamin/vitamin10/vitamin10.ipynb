{
 "cells": [
  {
   "cell_type": "code",
   "execution_count": null,
   "metadata": {
    "deletable": false,
    "editable": false
   },
   "outputs": [],
   "source": [
    "# Initialize OK\n",
    "from client.api.notebook import Notebook\n",
    "ok = Notebook('vitamin10.ok')"
   ]
  },
  {
   "cell_type": "markdown",
   "metadata": {},
   "source": [
    "# Vitamin 10"
   ]
  },
  {
   "cell_type": "code",
   "execution_count": 20,
   "metadata": {},
   "outputs": [],
   "source": [
    "# Don't change this cell; just run it. \n",
    "# When you log-in please hit return (not shift + return) after typing in your email\n",
    "from client.api.notebook import Notebook\n",
    "import feedback\n",
    "import numpy as np\n",
    "from datascience import *\n",
    "ok = Notebook('vitamin10.ok')\n",
    "_ = ok.auth(inline=True)"
   ]
  },
  {
   "cell_type": "markdown",
   "metadata": {},
   "source": [
    "### **Note**: Some questions have feedback that will guide you to the correct answer, while others will have hidden tests that do not provide feedback. For those that do not have feedback, the `ok.grade` cell will say 100% passed, as long as you put one of the possible choices. **100% passed does not necessarily mean you got the question right!**\n",
    "\n",
    "As long as you watched lecture, you should be able to answer these. If you are stuck, feel free to post on Piazza in the relevant threads!\n",
    "\n",
    "**Deadline**: Vitamin 10 is due Monday (9/21) by 10:59am PDT.\n",
    "\n",
    "**Submission**: Once you're finished, select \"Save and Checkpoint\" in the File menu and then run the submit cell at the end. The result will contain a link that you can use to check that your assignment has been submitted successfully. "
   ]
  },
  {
   "cell_type": "markdown",
   "metadata": {},
   "source": [
    "### For the following questions, consider the `yelp` table:"
   ]
  },
  {
   "cell_type": "code",
   "execution_count": 3,
   "metadata": {},
   "outputs": [],
   "source": [
    "# Run this cell to load the table\n",
    "np.random.seed(seed=31)\n",
    "yelp = Table().read_table(\"group_yelp_data.csv\").select(1, 6, 7, 8).shuffle()\n",
    "yelp = yelp.take(np.arange(6))\n",
    "yelp"
   ]
  },
  {
   "cell_type": "markdown",
   "metadata": {
    "deletable": false,
    "editable": false
   },
   "source": [
    "**A. True or False: The group function can only group by one column. It would be incorrect to group by `neighborhood` and `display_rating`.**\n",
    "\n",
    "1. `True`\n",
    "2. `False`\n",
    "\n",
    "<!--\n",
    "BEGIN QUESTION\n",
    "name: qA\n",
    "manual: false\n",
    "-->"
   ]
  },
  {
   "cell_type": "code",
   "execution_count": 6,
   "metadata": {},
   "outputs": [],
   "source": [
    "answer_A = ..."
   ]
  },
  {
   "cell_type": "code",
   "execution_count": null,
   "metadata": {
    "deletable": false,
    "editable": false
   },
   "outputs": [],
   "source": [
    "ok.grade(\"qA\");"
   ]
  },
  {
   "cell_type": "markdown",
   "metadata": {
    "deletable": false,
    "editable": false
   },
   "source": [
    "**B. True or False: If we do not specify a function name in our call to group (such as `yelp.group('yelp_category')`), the default function is np.average.**\n",
    "\n",
    "1. `True`\n",
    "2. `False`\n",
    "\n",
    "<!--\n",
    "BEGIN QUESTION\n",
    "name: qB\n",
    "manual: false\n",
    "-->"
   ]
  },
  {
   "cell_type": "code",
   "execution_count": 33,
   "metadata": {},
   "outputs": [],
   "source": [
    "answer_B = ..."
   ]
  },
  {
   "cell_type": "code",
   "execution_count": null,
   "metadata": {
    "deletable": false,
    "editable": false
   },
   "outputs": [],
   "source": [
    "ok.grade(\"qB\");"
   ]
  },
  {
   "cell_type": "markdown",
   "metadata": {},
   "source": [
    "### Run the submit cell to receive credit!"
   ]
  },
  {
   "cell_type": "code",
   "execution_count": 19,
   "metadata": {},
   "outputs": [],
   "source": [
    "_ = ok.submit()"
   ]
  },
  {
   "cell_type": "code",
   "execution_count": null,
   "metadata": {},
   "outputs": [],
   "source": []
  }
 ],
 "metadata": {
  "kernelspec": {
   "display_name": "Python 3",
   "language": "python",
   "name": "python3"
  },
  "language_info": {
   "codemirror_mode": {
    "name": "ipython",
    "version": 3
   },
   "file_extension": ".py",
   "mimetype": "text/x-python",
   "name": "python",
   "nbconvert_exporter": "python",
   "pygments_lexer": "ipython3",
   "version": "3.8.3"
  }
 },
 "nbformat": 4,
 "nbformat_minor": 1
}
