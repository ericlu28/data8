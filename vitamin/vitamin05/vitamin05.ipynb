{
 "cells": [
  {
   "cell_type": "code",
   "execution_count": null,
   "metadata": {
    "deletable": false,
    "editable": false
   },
   "outputs": [],
   "source": [
    "# Initialize OK\n",
    "from client.api.notebook import Notebook\n",
    "ok = Notebook('vitamin05.ok')"
   ]
  },
  {
   "cell_type": "markdown",
   "metadata": {},
   "source": [
    "# Vitamin 5"
   ]
  },
  {
   "cell_type": "code",
   "execution_count": 1,
   "metadata": {},
   "outputs": [],
   "source": [
    "# Don't change this cell; just run it. \n",
    "# When you log-in please hit return (not shift + return) after typing in your email\n",
    "from client.api.notebook import Notebook\n",
    "import feedback\n",
    "ok = Notebook('vitamin05.ok')\n",
    "_ = ok.auth(inline=True)"
   ]
  },
  {
   "cell_type": "markdown",
   "metadata": {},
   "source": [
    "### **Note**: Some questions have feedback that will guide you to the correct answer, while others will have hidden tests that do not provide feedback. For those that do not have feedback, the `ok.grade` cell will say 100% passed, as long as you put one of the possible choices. **100% passed does not necessarily mean you got the question right!**\n",
    "\n",
    "As long as you watched lecture, you should be able to answer these. If you are stuck, feel free to post on Piazza in the relevant threads!\n",
    "\n",
    "**Deadline**: Vitamin 5 is due Wednesday (9/9) by 10:59am PDT.\n",
    "\n",
    "**Submission**: Once you're finished, select \"Save and Checkpoint\" in the File menu and then run the submit cell at the end. The result will contain a link that you can use to check that your assignment has been submitted successfully. "
   ]
  },
  {
   "cell_type": "markdown",
   "metadata": {
    "deletable": false,
    "editable": false
   },
   "source": [
    "Consider the following table `temperatures`:\n",
    "\n",
    "| Date       | min_temp | max_temp |\n",
    "|------------|----------|----------|\n",
    "| 2020-05-01 | 44       | 68       |\n",
    "| 2020-05-02 | 49       | 72       |\n",
    "| 2020-05-03 | 45       | 67       |\n",
    "| 2020-05-04 | 47       | 66       |\n",
    "| 2020-05-05 | 48       | 64       |\n",
    "| 2020-05-06 | 42       | 62       |\n",
    "| 2020-05-07 | 50       | 65       |\n",
    "\n",
    "**A. What is the result of the following code? Assign `answer_A` to your answer (i.e. if your answer is 8, then replace the `...` with the number 8).** \n",
    "\n",
    "*Hint: You answer should be an integer.*\n",
    "\n",
    "```\n",
    "temperatures.where(\"min_temp\", are.below(47)).num_rows\n",
    "```\n",
    "\n",
    "<!--\n",
    "BEGIN QUESTION\n",
    "name: qA\n",
    "manual: false\n",
    "-->"
   ]
  },
  {
   "cell_type": "code",
   "execution_count": 2,
   "metadata": {},
   "outputs": [],
   "source": [
    "answer_A = ..."
   ]
  },
  {
   "cell_type": "code",
   "execution_count": null,
   "metadata": {
    "deletable": false,
    "editable": false
   },
   "outputs": [],
   "source": [
    "ok.grade(\"qA\");"
   ]
  },
  {
   "cell_type": "markdown",
   "metadata": {
    "deletable": false,
    "editable": false
   },
   "source": [
    "**B. Which of these options produces this table? Assign `answer_B` to 1, 2, or 3.**\n",
    "\n",
    "| Date       | min_temp | max_temp | temp_diff |\n",
    "|------------|----------|----------|-----------|\n",
    "| 2020-05-01 | 44       | 68       | 24        |\n",
    "| 2020-05-02 | 49       | 72       | 23        |\n",
    "| 2020-05-03 | 45       | 67       | 22        |\n",
    "| 2020-05-04 | 47       | 66       | 19        |\n",
    "| 2020-05-05 | 48       | 64       | 16        |\n",
    "| 2020-05-06 | 42       | 62       | 20        |\n",
    "| 2020-05-07 | 50       | 65       | 15        |\n",
    "\n",
    "1. `temperatures.with_column(\"temp_diff\", max_temp - min_temp)`\n",
    "\n",
    "\n",
    "2. `temperatures.with_column(\"temp_diff\", abs(temperatures.with_column(min_temp) - temperatures.with_column(max_temp)))`\n",
    "\n",
    "\n",
    "3. `temperatures.with_column(\"temp_diff\", temperatures.column(\"max_temp\") - temperatures.column(\"min_temp\"))`\n",
    "\n",
    "<!--\n",
    "BEGIN QUESTION\n",
    "name: qB\n",
    "manual: false\n",
    "-->"
   ]
  },
  {
   "cell_type": "code",
   "execution_count": 5,
   "metadata": {},
   "outputs": [],
   "source": [
    "answer_B = ..."
   ]
  },
  {
   "cell_type": "code",
   "execution_count": null,
   "metadata": {
    "deletable": false,
    "editable": false
   },
   "outputs": [],
   "source": [
    "ok.grade(\"qB\");"
   ]
  },
  {
   "cell_type": "code",
   "execution_count": null,
   "metadata": {},
   "outputs": [],
   "source": [
    "_ = ok.submit()"
   ]
  }
 ],
 "metadata": {
  "kernelspec": {
   "display_name": "Python 3",
   "language": "python",
   "name": "python3"
  },
  "language_info": {
   "codemirror_mode": {
    "name": "ipython",
    "version": 3
   },
   "file_extension": ".py",
   "mimetype": "text/x-python",
   "name": "python",
   "nbconvert_exporter": "python",
   "pygments_lexer": "ipython3",
   "version": "3.7.0"
  }
 },
 "nbformat": 4,
 "nbformat_minor": 1
}
