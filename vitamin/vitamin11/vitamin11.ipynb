{
 "cells": [
  {
   "cell_type": "code",
   "execution_count": null,
   "metadata": {
    "deletable": false,
    "editable": false
   },
   "outputs": [],
   "source": [
    "# Initialize OK\n",
    "from client.api.notebook import Notebook\n",
    "ok = Notebook('vitamin11.ok')"
   ]
  },
  {
   "cell_type": "markdown",
   "metadata": {},
   "source": [
    "## Vitamin 11"
   ]
  },
  {
   "cell_type": "code",
   "execution_count": 4,
   "metadata": {},
   "outputs": [],
   "source": [
    "from datascience import *\n",
    "import numpy as np\n",
    "import feedback\n",
    "%matplotlib inline\n",
    "from client.api.notebook import Notebook\n",
    "ok = Notebook('vitamin11.ok')\n",
    "_ = ok.auth(inline=True)"
   ]
  },
  {
   "cell_type": "markdown",
   "metadata": {},
   "source": [
    "### **Note**: Some questions have feedback that will guide you to the correct answer, while others will have hidden tests that do not provide feedback. For those that do not have feedback, the `ok.grade` cell will say 100% passed, as long as you put one of the possible choices. **100% passed does not necessarily mean you got the question right!**\n",
    "\n",
    "As long as you watched lecture, you should be able to answer these. If you are stuck, feel free to post on Piazza in the relevant threads!\n",
    "\n",
    "**Deadline**: Vitamin 11 is due Wednesday (9/23) by 10:59am PDT.\n",
    "\n",
    "**Submission**: Once you're finished, select \"Save and Checkpoint\" in the File menu and then run the submit cell at the end. The result will contain a link that you can use to check that your assignment has been submitted successfully. "
   ]
  },
  {
   "cell_type": "markdown",
   "metadata": {},
   "source": [
    "**Consider the `percent_covid19` and the `percent_elderly` tables in the code cell below. The `percent_covid19` table\n",
    "lists a few cities, and the proportion of their population who have or had COVID-19. The `percent_elderly`\n",
    "table also lists a couple of cities and provides the proportion of their population over the age of 65.**\n",
    "\n",
    "*Note: These values are not accurate!*"
   ]
  },
  {
   "cell_type": "code",
   "execution_count": 5,
   "metadata": {},
   "outputs": [],
   "source": [
    "# Run this cell to load the table\n",
    "percent_covid19 = Table().with_columns(\n",
    "    'City', make_array('San Jose', 'San Francisco', 'Berkeley', 'Richmond', 'Oakland'),\n",
    "    'COVID-19 %', make_array(1.1, 1.2, 0.6, 0.9, 1.3)\n",
    ")\n",
    "percent_elderly = Table().with_columns(\n",
    "    'city', make_array('San Jose', 'San Francisco', 'Berkeley', 'Richmond', 'Palo Alto'),\n",
    "    'elderly %', make_array(24.0, 23.4, 20.6, 22.3, 19.9)\n",
    ")"
   ]
  },
  {
   "cell_type": "code",
   "execution_count": 6,
   "metadata": {},
   "outputs": [],
   "source": [
    "# Run this cell to show the table\n",
    "percent_covid19"
   ]
  },
  {
   "cell_type": "code",
   "execution_count": 7,
   "metadata": {},
   "outputs": [],
   "source": [
    "# Run this cell to show the table\n",
    "percent_elderly"
   ]
  },
  {
   "cell_type": "markdown",
   "metadata": {
    "deletable": false,
    "editable": false
   },
   "source": [
    "**A. Assign `answer_A` to an array of integers of all lines of code that are valid (if you think 1 and 2 are valid, make an array with the numbers 1 and 2):** \n",
    "\n",
    "1. `percent_covid19.join('City', percent_elderly, 'city')`</li>\n",
    "2. `percent_covid19.join('City', percent_elderly)`</li>\n",
    "3. `percent_elderly.join('City', percent_covid19, 'city')`</li>\n",
    "4. `percent_elderly.join('city', percent_covid19, 'City')`</li>\n",
    "\n",
    "<!--\n",
    "BEGIN QUESTION\n",
    "name: qA\n",
    "manual: false\n",
    "-->"
   ]
  },
  {
   "cell_type": "code",
   "execution_count": 41,
   "metadata": {},
   "outputs": [],
   "source": [
    "answer_A = ..."
   ]
  },
  {
   "cell_type": "code",
   "execution_count": null,
   "metadata": {
    "deletable": false,
    "editable": false
   },
   "outputs": [],
   "source": [
    "ok.grade(\"qA\");"
   ]
  },
  {
   "cell_type": "markdown",
   "metadata": {
    "deletable": false,
    "editable": false
   },
   "source": [
    "**B. Are any data lost when joining the** `percent_covid19` **and** `percent_elderly` **tables by `city`? Why or why not?**\n",
    "\n",
    "<ol>\n",
    "    <li>No; the resulting table will contain data from both tables. Cities that only exist in one table will have a value of 0 in the column that comes from the other table.</li>\n",
    "    <li>Yes; only cities contained in both tables are preserved by the join operation.</li>\n",
    "</ol>\n",
    "\n",
    "<!--\n",
    "BEGIN QUESTION\n",
    "name: qB\n",
    "manual: false\n",
    "-->"
   ]
  },
  {
   "cell_type": "code",
   "execution_count": 46,
   "metadata": {},
   "outputs": [],
   "source": [
    "answer_B = ..."
   ]
  },
  {
   "cell_type": "code",
   "execution_count": null,
   "metadata": {
    "deletable": false,
    "editable": false
   },
   "outputs": [],
   "source": [
    "ok.grade(\"qB\");"
   ]
  },
  {
   "cell_type": "markdown",
   "metadata": {},
   "source": [
    "### Run the submit cell to receive credit!"
   ]
  },
  {
   "cell_type": "code",
   "execution_count": 1,
   "metadata": {},
   "outputs": [],
   "source": [
    "_ = ok.submit()"
   ]
  }
 ],
 "metadata": {
  "kernelspec": {
   "display_name": "Python 3",
   "language": "python",
   "name": "python3"
  },
  "language_info": {
   "codemirror_mode": {
    "name": "ipython",
    "version": 3
   },
   "file_extension": ".py",
   "mimetype": "text/x-python",
   "name": "python",
   "nbconvert_exporter": "python",
   "pygments_lexer": "ipython3",
   "version": "3.7.0"
  }
 },
 "nbformat": 4,
 "nbformat_minor": 1
}
