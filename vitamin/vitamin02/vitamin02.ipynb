{
 "cells": [
  {
   "cell_type": "code",
   "execution_count": null,
   "metadata": {
    "deletable": false,
    "editable": false
   },
   "outputs": [],
   "source": [
    "# Initialize OK\n",
    "from client.api.notebook import Notebook\n",
    "ok = Notebook('vitamin02.ok')"
   ]
  },
  {
   "cell_type": "markdown",
   "metadata": {},
   "source": [
    "# Vitamin 2"
   ]
  },
  {
   "cell_type": "code",
   "execution_count": 19,
   "metadata": {},
   "outputs": [],
   "source": [
    "# Don't change this cell; just run it. \n",
    "# When you log-in please hit return (not shift + return) after typing in your email\n",
    "from client.api.notebook import Notebook\n",
    "import feedback\n",
    "ok = Notebook('vitamin02.ok')\n",
    "_ = ok.auth(inline=True, force=True)"
   ]
  },
  {
   "cell_type": "markdown",
   "metadata": {},
   "source": [
    "### **Note**: Some questions have feedback that will guide you to the correct answer, while others will have hidden tests that do not provide feedback. For those that do not have feedback, the `ok.grade` cell will say 100% passed, as long as you put one of the possible choices. **100% passed does not necessarily mean you got the question right!**\n",
    "\n",
    "### For this vitamin, question 1 **will** provide you with instant feedback, while questions 2 & 3 won't. Those two questions have hidden tests. That means it will show as 100% passed whether you put option 1 or 2. It will be graded **after** the due date of this vitamin. In the future, we will not be explicit about which questions do or do not have hidden tests!\n",
    "\n",
    "As long as you watched lecture, you should be able to answer these. If you are stuck, feel free to post on Piazza in the relevant threads!\n",
    "\n",
    "**Deadline**: Vitamin 2 is due Monday (8/31) by 10:59am PDT.\n",
    "\n",
    "**Submission**: Once you're finished, select \"Save and Checkpoint\" in the File menu and then run the submit cell at the end. The result will contain a link that you can use to check that your assignment has been submitted successfully. "
   ]
  },
  {
   "cell_type": "markdown",
   "metadata": {
    "deletable": false,
    "editable": false
   },
   "source": [
    "**A. Fill in the blanks: If the treatment and control groups are \\_\\_\\_\\_\\_ apart from the treatment, then the \\_\\_\\_\\_\\_ between the outcomes in the two groups can be ascribed to the \\_\\_\\_\\_\\_. Assign answer_A to 1, 2, 3, or 4.**\n",
    "<ol>\n",
    "    <li>different, similarities, treatment</li>\n",
    "    <li>different, similarities, control</li>\n",
    "    <li>similar, differences, treatment</li>\n",
    "    <li>similar, differences, control</li>\n",
    "</ol>\n",
    "\n",
    "<!--\n",
    "BEGIN QUESTION\n",
    "name: qA\n",
    "manual: false\n",
    "-->"
   ]
  },
  {
   "cell_type": "code",
   "execution_count": 20,
   "metadata": {},
   "outputs": [],
   "source": [
    "answer_A = ..."
   ]
  },
  {
   "cell_type": "code",
   "execution_count": null,
   "metadata": {
    "deletable": false,
    "editable": false
   },
   "outputs": [],
   "source": [
    "ok.grade(\"qA\");"
   ]
  },
  {
   "cell_type": "markdown",
   "metadata": {
    "deletable": false,
    "editable": false
   },
   "source": [
    "**B. Which type of study is more likely to be affected by confounding factors? Assign answer_B to 1 or 2.**\n",
    "<ol>\n",
    "    <li>Observational studies</li>\n",
    "    <li>Randomized controlled experiments</li>\n",
    "</ol>\n",
    "\n",
    "<!--\n",
    "BEGIN QUESTION\n",
    "name: qB\n",
    "manual: false\n",
    "-->"
   ]
  },
  {
   "cell_type": "code",
   "execution_count": 26,
   "metadata": {},
   "outputs": [],
   "source": [
    "answer_B = ..."
   ]
  },
  {
   "cell_type": "code",
   "execution_count": null,
   "metadata": {
    "deletable": false,
    "editable": false
   },
   "outputs": [],
   "source": [
    "ok.grade(\"qB\");"
   ]
  },
  {
   "cell_type": "markdown",
   "metadata": {
    "deletable": false,
    "editable": false
   },
   "source": [
    "**C. True or False? In data science, randomness implies that a study was conducted haphazardly. Assign answer_C to 1 or 2.**\n",
    "<ol>\n",
    "    <li>True. Scientists and researchers need to be careful to ensure that everything is consistent and uniform to prevent errors. Randomness would introduce error-prone factors that may bias the conclusion of the study.</li>\n",
    "    <li>False. Some studies deliberately introduce randomness to help avoid bias and confounding factors.</li>\n",
    "</ol>\n",
    "\n",
    "\n",
    "<!--\n",
    "BEGIN QUESTION\n",
    "name: qC\n",
    "manual: false\n",
    "-->"
   ]
  },
  {
   "cell_type": "code",
   "execution_count": 29,
   "metadata": {},
   "outputs": [],
   "source": [
    "answer_C = ..."
   ]
  },
  {
   "cell_type": "code",
   "execution_count": null,
   "metadata": {
    "deletable": false,
    "editable": false
   },
   "outputs": [],
   "source": [
    "ok.grade(\"qC\");"
   ]
  },
  {
   "cell_type": "markdown",
   "metadata": {},
   "source": [
    "### Run the submit cell to receive credit!"
   ]
  },
  {
   "cell_type": "code",
   "execution_count": null,
   "metadata": {},
   "outputs": [],
   "source": [
    "_ = ok.submit()"
   ]
  },
  {
   "cell_type": "code",
   "execution_count": null,
   "metadata": {},
   "outputs": [],
   "source": []
  }
 ],
 "metadata": {
  "kernelspec": {
   "display_name": "Python 3",
   "language": "python",
   "name": "python3"
  },
  "language_info": {
   "codemirror_mode": {
    "name": "ipython",
    "version": 3
   },
   "file_extension": ".py",
   "mimetype": "text/x-python",
   "name": "python",
   "nbconvert_exporter": "python",
   "pygments_lexer": "ipython3",
   "version": "3.8.3"
  }
 },
 "nbformat": 4,
 "nbformat_minor": 1
}
