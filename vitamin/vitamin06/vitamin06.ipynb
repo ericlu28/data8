{
 "cells": [
  {
   "cell_type": "code",
   "execution_count": null,
   "metadata": {
    "deletable": false,
    "editable": false
   },
   "outputs": [],
   "source": [
    "# Initialize OK\n",
    "from client.api.notebook import Notebook\n",
    "ok = Notebook('vitamin06.ok')"
   ]
  },
  {
   "cell_type": "markdown",
   "metadata": {},
   "source": [
    "## Vitamin 6"
   ]
  },
  {
   "cell_type": "code",
   "execution_count": 14,
   "metadata": {},
   "outputs": [],
   "source": [
    "# Don't change this cell; just run it. \n",
    "# When you log-in please hit return (not shift + return) after typing in your email\n",
    "from client.api.notebook import Notebook\n",
    "import feedback\n",
    "from datascience import *\n",
    "ok = Notebook('vitamin06.ok')\n",
    "_ = ok.auth(inline=True)"
   ]
  },
  {
   "cell_type": "markdown",
   "metadata": {},
   "source": [
    "### **Note**: Some questions have feedback that will guide you to the correct answer, while others will have hidden tests that do not provide feedback. For those that do not have feedback, the `ok.grade` cell will say 100% passed, as long as you put one of the possible choices. **100% passed does not necessarily mean you got the question right!**\n",
    "\n",
    "As long as you watched lecture, you should be able to answer these. If you are stuck, feel free to post on Piazza in the relevant threads!\n",
    "\n",
    "**Deadline**: Vitamin 6 is due Friday (9/11) by 10:59am PDT.\n",
    "\n",
    "**Submission**: Once you're finished, select \"Save and Checkpoint\" in the File menu and then run the submit cell at the end. The result will contain a link that you can use to check that your assignment has been submitted successfully. "
   ]
  },
  {
   "cell_type": "markdown",
   "metadata": {
    "deletable": false,
    "editable": false
   },
   "source": [
    "**A. Recall the `census` table from lecture:**\n",
    "\n",
    "<img src=\"census_tbl.png\" width=300 height=300 />\n",
    "\n",
    "**Is the `SEX` variable categorical or numerical? Assign `answer_A` to either 1 or 2.**\n",
    "<ol>\n",
    "    <li>categorical</li>\n",
    "    <li>numerical</li>\n",
    "</ol>\n",
    "\n",
    "<!--\n",
    "BEGIN QUESTION\n",
    "name: qA\n",
    "manual: false\n",
    "-->"
   ]
  },
  {
   "cell_type": "code",
   "execution_count": 15,
   "metadata": {},
   "outputs": [],
   "source": [
    "answer_A = ..."
   ]
  },
  {
   "cell_type": "code",
   "execution_count": null,
   "metadata": {
    "deletable": false,
    "editable": false
   },
   "outputs": [],
   "source": [
    "ok.grade(\"qA\");"
   ]
  },
  {
   "cell_type": "markdown",
   "metadata": {
    "deletable": false,
    "editable": false
   },
   "source": [
    "**B. Robbie is trying to create a new table that only shows data on males between the ages of 97 and 100, inclusive. As a reminder, sex of 1 is male and sex of 2 is female. Which line of code could he use? Assign answer_B to 1,2,3, or 4(s)**\n",
    "\n",
    "*Hint: Check out the [Python Reference](http://data8.org/sp20/python-reference.html) guide for information on `table.where()` predicates.*\n",
    "\n",
    "1. `census.where('SEX', are.equal_to(1)).where('AGE', are.between(97, 100))`\n",
    "2. `census.where('SEX', are.equal_to(1)).where('AGE', are.between(97, 101))`\n",
    "3. `census.where('SEX', are.equal_to(1), 'AGE', are.between(97, 100))`\n",
    "4. `census.where('SEX', are.equal_to(1), 'AGE', are.between(97, 101))`\n",
    "\n",
    "<!--\n",
    "BEGIN QUESTION\n",
    "name: qB\n",
    "manual: false\n",
    "-->"
   ]
  },
  {
   "cell_type": "code",
   "execution_count": 19,
   "metadata": {},
   "outputs": [],
   "source": [
    "answer_B = ..."
   ]
  },
  {
   "cell_type": "code",
   "execution_count": null,
   "metadata": {
    "deletable": false,
    "editable": false
   },
   "outputs": [],
   "source": [
    "ok.grade(\"qB\");"
   ]
  },
  {
   "cell_type": "code",
   "execution_count": 22,
   "metadata": {},
   "outputs": [],
   "source": [
    "_ = ok.submit()"
   ]
  },
  {
   "cell_type": "code",
   "execution_count": null,
   "metadata": {},
   "outputs": [],
   "source": []
  }
 ],
 "metadata": {
  "kernelspec": {
   "display_name": "Python 3",
   "language": "python",
   "name": "python3"
  },
  "language_info": {
   "codemirror_mode": {
    "name": "ipython",
    "version": 3
   },
   "file_extension": ".py",
   "mimetype": "text/x-python",
   "name": "python",
   "nbconvert_exporter": "python",
   "pygments_lexer": "ipython3",
   "version": "3.7.4"
  }
 },
 "nbformat": 4,
 "nbformat_minor": 1
}
