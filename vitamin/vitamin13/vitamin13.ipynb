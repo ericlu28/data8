{
 "cells": [
  {
   "cell_type": "code",
   "execution_count": null,
   "metadata": {
    "deletable": false,
    "editable": false
   },
   "outputs": [],
   "source": [
    "# Initialize OK\n",
    "from client.api.notebook import Notebook\n",
    "ok = Notebook('vitamin13.ok')"
   ]
  },
  {
   "cell_type": "markdown",
   "metadata": {},
   "source": [
    "# Vitamin 13"
   ]
  },
  {
   "cell_type": "code",
   "execution_count": 2,
   "metadata": {},
   "outputs": [],
   "source": [
    "# Don't change this cell; just run it. \n",
    "# When you log-in please hit return (not shift + return) after typing in your email\n",
    "from client.api.notebook import Notebook\n",
    "import feedback\n",
    "from datascience import *\n",
    "import numpy as np\n",
    "ok = Notebook('vitamin13.ok')\n",
    "_ = ok.auth(inline=True, force=True)"
   ]
  },
  {
   "cell_type": "markdown",
   "metadata": {},
   "source": [
    "### **Note**: Some questions have feedback that will guide you to the correct answer, while others will have hidden tests that do not provide feedback. For those that do not have feedback, the `ok.grade` cell will say 100% passed, as long as you put one of the possible choices. **100% passed does not necessarily mean you got the question right!**\n",
    "\n",
    "As long as you watched lecture, you should be able to answer these. If you are stuck, feel free to post on Piazza in the relevant threads!\n",
    "\n",
    "**Deadline**: Vitamin 13 is due Monday (9/28) by 10:59am PDT.\n",
    "\n",
    "**Submission**: Once you're finished, select \"Save and Checkpoint\" in the File menu and then run the submit cell at the end. The result will contain a link that you can use to check that your assignment has been submitted successfully. "
   ]
  },
  {
   "cell_type": "markdown",
   "metadata": {},
   "source": [
    "### 1. Simulations"
   ]
  },
  {
   "cell_type": "markdown",
   "metadata": {},
   "source": [
    "Run the cell below to create an array with the results of 10 rolls of a fair 6-faced die."
   ]
  },
  {
   "cell_type": "code",
   "execution_count": 7,
   "metadata": {},
   "outputs": [],
   "source": [
    "# Just run this cell; do not modify it\n",
    "fair_die = np.arange(1, 7)\n",
    "ten_rolls = np.random.choice(fair_die, 10)\n",
    "print(\"Ten rolls of a fair die:\" , ten_rolls)"
   ]
  },
  {
   "cell_type": "markdown",
   "metadata": {},
   "source": [
    "**The code below simulates this process 100 times. in each of the 100 trials, the sum of the rolls is recorded in the array `simulated_sums`.**"
   ]
  },
  {
   "cell_type": "code",
   "execution_count": 8,
   "metadata": {},
   "outputs": [],
   "source": [
    "simulated_sums = make_array()\n",
    "num_trials = 100\n",
    "\n",
    "for i in np.arange(num_trials):\n",
    "    trial_sum = sum(np.random.choice(fair_die, 10))\n",
    "    simulated_sums = np.append(simulated_sums, trial_sum)\n",
    "    \n",
    "simulated_sums"
   ]
  },
  {
   "cell_type": "markdown",
   "metadata": {
    "deletable": false,
    "editable": false
   },
   "source": [
    "**A. Is there a difference between creating `simulated_sums` inside versus outside of the for loop? Can you think of why or why not?**\n",
    "\n",
    "*Creating `simulated_sums` in the for loop means moving line 1 (the make_array) into the for loop, right before where `trial_sum` is defined.*\n",
    "\n",
    "1. Yes, the result will be different if we create the array inside of the for loop.\n",
    "2. No, the result will be the same if we create the array inside of the for loop.\n",
    "\n",
    "\n",
    "<!--\n",
    "BEGIN QUESTION\n",
    "name: qA\n",
    "manual: false\n",
    "-->"
   ]
  },
  {
   "cell_type": "code",
   "execution_count": 9,
   "metadata": {},
   "outputs": [],
   "source": [
    "answer_A = ..."
   ]
  },
  {
   "cell_type": "code",
   "execution_count": null,
   "metadata": {
    "deletable": false,
    "editable": false
   },
   "outputs": [],
   "source": [
    "ok.grade(\"qA\");"
   ]
  },
  {
   "cell_type": "markdown",
   "metadata": {
    "deletable": false,
    "editable": false
   },
   "source": [
    "### 2. Turnips\n",
    "You’ve recently started playing Animal Crossing: New Horizons and are trying to make a fortune on your new desert island by buying and selling turnips! You decide to track turnip prices in order to figure out when the best time to sell would be. Prices change at noon each day, such that the price in the morning is different than the price in the evening. \n",
    "\n",
    "You store your results in `turnips`, a table with the following two columns:\n",
    "\n",
    "- `morning_price` - the price of turnips in the morning (integer)\n",
    "- `evening_price` - the price of turnips in the evening (integer)\n",
    "\n",
    "**B. Which of the following will return the number of days when turnip prices are strictly higher in the morning than they are in the evening?**\n",
    "\n",
    "1. `len(turnips.column(\"morning_price\") > turnips.column(\"evening_price\"))`\n",
    "\n",
    "2. `np.count_nonzero(turnips.column(\"morning_price\") >= turnips.column(\"evening_price\"))`\n",
    "\n",
    "3. `sum(turnips.column(\"morning_price\") > turnips.column(\"evening_price\"))`\n",
    "\n",
    "4. `np.count_nonzero(turnips.column(\"morning_price\") !< turnips.column(\"evening_price\"))`\n",
    "\n",
    "\n",
    "<!--\n",
    "BEGIN QUESTION\n",
    "name: qB\n",
    "manual: false\n",
    "-->"
   ]
  },
  {
   "cell_type": "code",
   "execution_count": 13,
   "metadata": {},
   "outputs": [],
   "source": [
    "answer_B = ..."
   ]
  },
  {
   "cell_type": "code",
   "execution_count": null,
   "metadata": {
    "deletable": false,
    "editable": false
   },
   "outputs": [],
   "source": [
    "ok.grade(\"qB\");"
   ]
  },
  {
   "cell_type": "markdown",
   "metadata": {},
   "source": [
    "### Run the submit cell below to receive credit!"
   ]
  },
  {
   "cell_type": "code",
   "execution_count": 21,
   "metadata": {},
   "outputs": [],
   "source": [
    "_ = ok.submit()"
   ]
  },
  {
   "cell_type": "code",
   "execution_count": null,
   "metadata": {},
   "outputs": [],
   "source": []
  }
 ],
 "metadata": {
  "kernelspec": {
   "display_name": "Python 3",
   "language": "python",
   "name": "python3"
  },
  "language_info": {
   "codemirror_mode": {
    "name": "ipython",
    "version": 3
   },
   "file_extension": ".py",
   "mimetype": "text/x-python",
   "name": "python",
   "nbconvert_exporter": "python",
   "pygments_lexer": "ipython3",
   "version": "3.8.3"
  }
 },
 "nbformat": 4,
 "nbformat_minor": 1
}
