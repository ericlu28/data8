{
 "cells": [
  {
   "cell_type": "code",
   "execution_count": 1,
   "metadata": {
    "deletable": false,
    "editable": false
   },
   "outputs": [
    {
     "name": "stdout",
     "output_type": "stream",
     "text": [
      "=====================================================================\n",
      "Assignment: Homework 12: Classification\n",
      "OK, version v1.18.1\n",
      "=====================================================================\n",
      "\n"
     ]
    }
   ],
   "source": [
    "# Initialize OK\n",
    "from client.api.notebook import Notebook\n",
    "ok = Notebook('hw12.ok')"
   ]
  },
  {
   "cell_type": "markdown",
   "metadata": {},
   "source": [
    "# Homework 12: Classification"
   ]
  },
  {
   "cell_type": "markdown",
   "metadata": {},
   "source": [
    "**Helpful Resource:**\n",
    "- [Python Reference](http://data8.org/fa20/python-reference.html): Cheat sheet of helpful array & table methods used in Data 8!\n",
    "\n",
    "**Reading**: \n",
    "* [Classification](https://www.inferentialthinking.com/chapters/17/classification.html)"
   ]
  },
  {
   "cell_type": "markdown",
   "metadata": {},
   "source": [
    "Please complete this notebook by filling in the cells provided. Before you begin, execute the following cell to load the provided tests. Each time you start your server, you will need to execute this cell again to load the tests.\n",
    "\n",
    "For all problems that you must write explanations and sentences for, you **must** provide your answer in the designated space. **Moreover, throughout this homework and all future ones, please be sure to not re-assign variables throughout the notebook!** For example, if you use `max_temperature` in your answer to one question, do not reassign it later on. Otherwise, you will fail tests that you thought you were passing previously!\n",
    "\n",
    "**Deadline:**\n",
    "\n",
    "This assignment is due Friday, December 4 at 11:59 P.M. PST. You will receive an early submission bonus point if you turn in your final submission by Thursday, December 3 at 11:59 P.M. PST. Late work will not be accepted as per the [policies](http://data8.org/fa20/policies.html) page.\n",
    "\n",
    "**Note: This homework has hidden tests on it. That means even though tests may say 100% passed, doesn't mean your final grade will be 100%. We will be running more tests for correctness once everyone turns in the homework.**\n",
    "\n",
    "Directly sharing answers is not okay, but discussing problems with the course staff or with other students is encouraged. Refer to the policies page to learn more about how to learn cooperatively.\n",
    "\n",
    "You should start early so that you have time to get help if you're stuck. Office hours are held Monday-Friday. The schedule appears on [http://data8.org/fa20/office-hours.html](http://data8.org/fa20/office-hours.html)."
   ]
  },
  {
   "cell_type": "code",
   "execution_count": 2,
   "metadata": {
    "scrolled": true
   },
   "outputs": [
    {
     "name": "stdout",
     "output_type": "stream",
     "text": [
      "=====================================================================\n",
      "Assignment: Homework 12: Classification\n",
      "OK, version v1.18.1\n",
      "=====================================================================\n",
      "\n",
      "Successfully logged in as ealu@berkeley.edu\n"
     ]
    }
   ],
   "source": [
    "# Don't change this cell; just run it. \n",
    "\n",
    "import numpy as np\n",
    "from datascience import *\n",
    "\n",
    "# These lines do some fancy plotting magic.\",\n",
    "import matplotlib\n",
    "%matplotlib inline\n",
    "import matplotlib.pyplot as plt\n",
    "plt.style.use('fivethirtyeight')\n",
    "import warnings\n",
    "warnings.simplefilter('ignore', FutureWarning)\n",
    "\n",
    "from client.api.notebook import *\n",
    "def new_save_notebook(self):\n",
    "    \"\"\" Saves the current notebook by\n",
    "        injecting JavaScript to save to .ipynb file.\n",
    "    \"\"\"\n",
    "    try:\n",
    "        from IPython.display import display, Javascript\n",
    "    except ImportError:\n",
    "        log.warning(\"Could not import IPython Display Function\")\n",
    "        print(\"Make sure to save your notebook before sending it to OK!\")\n",
    "        return\n",
    "\n",
    "    if self.mode == \"jupyter\":\n",
    "        display(Javascript('IPython.notebook.save_checkpoint();'))\n",
    "        display(Javascript('IPython.notebook.save_notebook();'))\n",
    "    elif self.mode == \"jupyterlab\":\n",
    "        display(Javascript('document.querySelector(\\'[data-command=\"docmanager:save\"]\\').click();'))   \n",
    "\n",
    "    print('Saving notebook...', end=' ')\n",
    "\n",
    "    ipynbs = [path for path in self.assignment.src\n",
    "              if os.path.splitext(path)[1] == '.ipynb']\n",
    "    # Wait for first .ipynb to save\n",
    "    if ipynbs:\n",
    "        if wait_for_save(ipynbs[0]):\n",
    "            print(\"Saved '{}'.\".format(ipynbs[0]))\n",
    "        else:\n",
    "            log.warning(\"Timed out waiting for IPython save\")\n",
    "            print(\"Could not automatically save \\'{}\\'\".format(ipynbs[0]))\n",
    "            print(\"Make sure your notebook\"\n",
    "                  \" is correctly named and saved before submitting to OK!\".format(ipynbs[0]))\n",
    "            return False                \n",
    "    else:\n",
    "        print(\"No valid file sources found\")\n",
    "    return True\n",
    "\n",
    "def wait_for_save(filename, timeout=600):\n",
    "    \"\"\"Waits for FILENAME to update, waiting up to TIMEOUT seconds.\n",
    "    Returns True if a save was detected, and False otherwise.\n",
    "    \"\"\"\n",
    "    modification_time = os.path.getmtime(filename)\n",
    "    start_time = time.time()\n",
    "    while time.time() < start_time + timeout:\n",
    "        if (os.path.getmtime(filename) > modification_time and\n",
    "            os.path.getsize(filename) > 0):\n",
    "            return True\n",
    "        time.sleep(0.2)\n",
    "    return False\n",
    "\n",
    "Notebook.save_notebook = new_save_notebook\n",
    "\n",
    "ok = Notebook('hw12.ok')\n",
    "_ = ok.auth(inline=True)"
   ]
  },
  {
   "cell_type": "markdown",
   "metadata": {},
   "source": [
    "Before continuing the assignment, select \"Save and Checkpoint\" in the File menu and then execute the submit cell below. The result will contain a link that you can use to check that your assignment has been submitted successfully. If you submit more than once before the deadline, we will only grade your final submission. If you mistakenly submit the wrong one, you can head to okpy.org and flag the correct version. There will be another submit cell at the end of the assignment when you finish!"
   ]
  },
  {
   "cell_type": "code",
   "execution_count": 3,
   "metadata": {},
   "outputs": [
    {
     "data": {
      "application/javascript": [
       "IPython.notebook.save_checkpoint();"
      ],
      "text/plain": [
       "<IPython.core.display.Javascript object>"
      ]
     },
     "metadata": {},
     "output_type": "display_data"
    },
    {
     "data": {
      "application/javascript": [
       "IPython.notebook.save_notebook();"
      ],
      "text/plain": [
       "<IPython.core.display.Javascript object>"
      ]
     },
     "metadata": {},
     "output_type": "display_data"
    },
    {
     "name": "stdout",
     "output_type": "stream",
     "text": [
      "Saving notebook... Saved 'hw12.ipynb'.\n",
      "Submit... 100% complete\n",
      "Submission successful for user: ealu@berkeley.edu\n",
      "URL: https://okpy.org/cal/data8/fa20/hw12/submissions/7XJkPO\n",
      "\n"
     ]
    }
   ],
   "source": [
    "_ = ok.submit()"
   ]
  },
  {
   "cell_type": "markdown",
   "metadata": {},
   "source": [
    "## 1. Bay Area School Coordinates with Classification\n"
   ]
  },
  {
   "cell_type": "markdown",
   "metadata": {},
   "source": [
    "Welcome to Homework 12! This homework is about k-Nearest Neighbors classification (kNN). Since this topic is covered in depth in Project 3, the purpose of this homework is to reinforce the basics of this method. You can and should reuse a lot of code that you wrote for Project 3 for this homework, or use code from this homework on Project 3!"
   ]
  },
  {
   "cell_type": "markdown",
   "metadata": {},
   "source": [
    "## Our Dearest Neighbors"
   ]
  },
  {
   "cell_type": "markdown",
   "metadata": {},
   "source": [
    "Carol is trying classify students as either attendees of UC Berkeley or as attendees of Leland Stanford Junior College. To classify the students, Carol has access to the coordinates of the location they live during the school year. First, load in the `coordinates` table."
   ]
  },
  {
   "cell_type": "code",
   "execution_count": 4,
   "metadata": {
    "deletable": false,
    "editable": false
   },
   "outputs": [
    {
     "data": {
      "text/html": [
       "<table border=\"1\" class=\"dataframe\">\n",
       "    <thead>\n",
       "        <tr>\n",
       "            <th>latitude</th> <th>longitude</th> <th>school</th>\n",
       "        </tr>\n",
       "    </thead>\n",
       "    <tbody>\n",
       "        <tr>\n",
       "            <td>37.8693 </td> <td>-122.255 </td> <td>Berkeley</td>\n",
       "        </tr>\n",
       "        <tr>\n",
       "            <td>37.8651 </td> <td>-122.256 </td> <td>Berkeley</td>\n",
       "        </tr>\n",
       "        <tr>\n",
       "            <td>37.8661 </td> <td>-122.254 </td> <td>Berkeley</td>\n",
       "        </tr>\n",
       "        <tr>\n",
       "            <td>37.868  </td> <td>-122.26  </td> <td>Berkeley</td>\n",
       "        </tr>\n",
       "        <tr>\n",
       "            <td>37.8683 </td> <td>-122.257 </td> <td>Berkeley</td>\n",
       "        </tr>\n",
       "    </tbody>\n",
       "</table>\n",
       "<p>... (95 rows omitted)</p>"
      ],
      "text/plain": [
       "<IPython.core.display.HTML object>"
      ]
     },
     "metadata": {},
     "output_type": "display_data"
    }
   ],
   "source": [
    "# Just run this cell!\n",
    "coordinates = Table.read_table('coordinates.csv')\n",
    "coordinates.show(5)"
   ]
  },
  {
   "cell_type": "markdown",
   "metadata": {},
   "source": [
    "As usual, let's investigate our data visually before performing any kind of numerical analysis."
   ]
  },
  {
   "cell_type": "code",
   "execution_count": 5,
   "metadata": {
    "deletable": false,
    "editable": false
   },
   "outputs": [
    {
     "data": {
      "image/png": "[encoded data removed]",
      "text/plain": [
       "<Figure size 360x360 with 1 Axes>"
      ]
     },
     "metadata": {},
     "output_type": "display_data"
    }
   ],
   "source": [
    "# Just run this cell!\n",
    "coordinates.scatter(\"longitude\", \"latitude\", group=\"school\")"
   ]
  },
  {
   "cell_type": "markdown",
   "metadata": {},
   "source": [
    "The locations of the points on this scatter plot might be familiar - run the following cell to see what they correspond to."
   ]
  },
  {
   "cell_type": "code",
   "execution_count": 6,
   "metadata": {
    "deletable": false,
    "editable": false
   },
   "outputs": [
    {
     "data": {
      "text/html": [
       "<div style=\"width:100%;\"><div style=\"position:relative;width:100%;height:0;padding-bottom:60%;\"><span style=\"color:#565656\">Make this Notebook Trusted to load map: File -> Trust Notebook</span><iframe src=\"about:blank\" style=\"position:absolute;width:100%;height:100%;left:0;top:0;border:none !important;\" data-html=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 onload=\"this.contentDocument.open();this.contentDocument.write(atob(this.getAttribute('data-html')));this.contentDocument.close();\" allowfullscreen webkitallowfullscreen mozallowfullscreen></iframe></div></div>"
      ],
      "text/plain": [
       "<datascience.maps.Map at 0x7fc72600b490>"
      ]
     },
     "execution_count": 6,
     "metadata": {},
     "output_type": "execute_result"
    }
   ],
   "source": [
    "# Just run this cell!\n",
    "colors = {\"Berkeley\":\"blue\", \"Stanford\":\"red\"}\n",
    "t = Table().with_columns(\"lat\", coordinates.column(0), \n",
    "                                      \"lon\", coordinates.column(1), \n",
    "                                      \"color\", coordinates.apply(colors.get, 2)\n",
    "                        )\n",
    "Circle.map_table(t, radius=5, fill_opacity=1)"
   ]
  },
  {
   "cell_type": "markdown",
   "metadata": {
    "deletable": false,
    "editable": false
   },
   "source": [
    "#### Question 1\n",
    "\n",
    "Let's begin implementing the k-Nearest Neighbors algorithm. Define the `distance` function, which takes in two arguments: an array of numerical features, and a different array of numerical features. The function should return the [Euclidean distance](https://en.wikipedia.org/wiki/Euclidean_distance) between the two arrays. Euclidean distance is often referred to as the straight-line distance formula that you may have learned previously.\n",
    "\n",
    "\n",
    "<!--\n",
    "BEGIN QUESTION\n",
    "name: q1_1\n",
    "manual: false\n",
    "-->"
   ]
  },
  {
   "cell_type": "code",
   "execution_count": 7,
   "metadata": {
    "deletable": false
   },
   "outputs": [
    {
     "data": {
      "text/plain": [
       "5.196152422706632"
      ]
     },
     "execution_count": 7,
     "metadata": {},
     "output_type": "execute_result"
    }
   ],
   "source": [
    "def distance(arr1, arr2):\n",
    "    return np.sqrt(np.sum((arr1 - arr2)**2))\n",
    "\n",
    "# Don't change/delete the code below in this cell\n",
    "distance_example = distance(make_array(1, 2, 3), make_array(4, 5, 6))\n",
    "distance_example"
   ]
  },
  {
   "cell_type": "code",
   "execution_count": 8,
   "metadata": {
    "deletable": false,
    "editable": false
   },
   "outputs": [
    {
     "name": "stdout",
     "output_type": "stream",
     "text": [
      "~~~~~~~~~~~~~~~~~~~~~~~~~~~~~~~~~~~~~~~~~~~~~~~~~~~~~~~~~~~~~~~~~~~~~\n",
      "Running tests\n",
      "\n",
      "---------------------------------------------------------------------\n",
      "Test summary\n",
      "    Passed: 2\n",
      "    Failed: 0\n",
      "[ooooooooook] 100.0% passed\n",
      "\n"
     ]
    }
   ],
   "source": [
    "ok.grade(\"q1_1\");"
   ]
  },
  {
   "cell_type": "markdown",
   "metadata": {},
   "source": [
    "### Splitting the dataset\n",
    "We'll do 2 different kinds of things with the `coordinates` dataset:\n",
    "1. We'll build a classifier using coordinates for which we know the associated label; this will teach it to recognize labels of similar coordinate values. This process is known as *training*.\n",
    "2. We'll evaluate or *test* the accuracy of the classifier we build on data we haven't seen before.\n",
    "\n",
    "For reasons discussed in lecture and the textbook, we want to use separate datasets for these two purposes.  So we split up our one dataset into two."
   ]
  },
  {
   "cell_type": "markdown",
   "metadata": {
    "deletable": false,
    "editable": false
   },
   "source": [
    "#### Question 2\n",
    "\n",
    "Next, let's split our dataset into a training set and a test set. Since `coordinates` has $100$ rows, let's create a training set with the first 75 rows and a test set with the remaining 25 rows. Remember that assignment to each group should be random, so we should shuffle the table first.\n",
    "\n",
    "*Hint: as a first step we can shuffle all the rows, then use the* `tbl.take` *function to split up the rows for each table*\n",
    "\n",
    "\n",
    "<!--\n",
    "BEGIN QUESTION\n",
    "name: q1_2\n",
    "manual: false\n",
    "-->"
   ]
  },
  {
   "cell_type": "code",
   "execution_count": 9,
   "metadata": {
    "for_assignment_type": "solution"
   },
   "outputs": [
    {
     "name": "stdout",
     "output_type": "stream",
     "text": [
      "Training set:\t 75 examples\n",
      "Test set:\t 25 examples\n"
     ]
    },
    {
     "data": {
      "text/html": [
       "<table border=\"1\" class=\"dataframe\">\n",
       "    <thead>\n",
       "        <tr>\n",
       "            <th>latitude</th> <th>longitude</th> <th>school</th>\n",
       "        </tr>\n",
       "    </thead>\n",
       "    <tbody>\n",
       "        <tr>\n",
       "            <td>37.6605 </td> <td>-122.121 </td> <td>Berkeley</td>\n",
       "        </tr>\n",
       "        <tr>\n",
       "            <td>37.8649 </td> <td>-122.263 </td> <td>Berkeley</td>\n",
       "        </tr>\n",
       "        <tr>\n",
       "            <td>37.8774 </td> <td>-122.265 </td> <td>Berkeley</td>\n",
       "        </tr>\n",
       "        <tr>\n",
       "            <td>37.4261 </td> <td>-121.904 </td> <td>Stanford</td>\n",
       "        </tr>\n",
       "        <tr>\n",
       "            <td>37.8753 </td> <td>-122.263 </td> <td>Berkeley</td>\n",
       "        </tr>\n",
       "    </tbody>\n",
       "</table>\n",
       "<p>... (70 rows omitted)</p>"
      ],
      "text/plain": [
       "<IPython.core.display.HTML object>"
      ]
     },
     "metadata": {},
     "output_type": "display_data"
    },
    {
     "data": {
      "text/html": [
       "<table border=\"1\" class=\"dataframe\">\n",
       "    <thead>\n",
       "        <tr>\n",
       "            <th>latitude</th> <th>longitude</th> <th>school</th>\n",
       "        </tr>\n",
       "    </thead>\n",
       "    <tbody>\n",
       "        <tr>\n",
       "            <td>37.868  </td> <td>-122.254 </td> <td>Berkeley</td>\n",
       "        </tr>\n",
       "        <tr>\n",
       "            <td>37.865  </td> <td>-122.278 </td> <td>Berkeley</td>\n",
       "        </tr>\n",
       "        <tr>\n",
       "            <td>37.8639 </td> <td>-122.262 </td> <td>Berkeley</td>\n",
       "        </tr>\n",
       "        <tr>\n",
       "            <td>37.8686 </td> <td>-122.274 </td> <td>Berkeley</td>\n",
       "        </tr>\n",
       "        <tr>\n",
       "            <td>37.8685 </td> <td>-122.271 </td> <td>Berkeley</td>\n",
       "        </tr>\n",
       "    </tbody>\n",
       "</table>\n",
       "<p>... (20 rows omitted)</p>"
      ],
      "text/plain": [
       "<IPython.core.display.HTML object>"
      ]
     },
     "metadata": {},
     "output_type": "display_data"
    }
   ],
   "source": [
    "shuffled_table = coordinates.sample(with_replacement = False)\n",
    "train = shuffled_table.take(np.arange(0,75))\n",
    "test = shuffled_table.take(np.arange(75,100))\n",
    "\n",
    "print(\"Training set:\\t\",   train.num_rows, \"examples\")\n",
    "print(\"Test set:\\t\",       test.num_rows, \"examples\")\n",
    "train.show(5), test.show(5);"
   ]
  },
  {
   "cell_type": "code",
   "execution_count": 10,
   "metadata": {
    "deletable": false,
    "editable": false
   },
   "outputs": [
    {
     "name": "stdout",
     "output_type": "stream",
     "text": [
      "~~~~~~~~~~~~~~~~~~~~~~~~~~~~~~~~~~~~~~~~~~~~~~~~~~~~~~~~~~~~~~~~~~~~~\n",
      "Running tests\n",
      "\n",
      "---------------------------------------------------------------------\n",
      "Test summary\n",
      "    Passed: 3\n",
      "    Failed: 0\n",
      "[ooooooooook] 100.0% passed\n",
      "\n"
     ]
    }
   ],
   "source": [
    "ok.grade(\"q1_2\");"
   ]
  },
  {
   "cell_type": "markdown",
   "metadata": {
    "deletable": false,
    "editable": false
   },
   "source": [
    "#### Question 3\n",
    "\n",
    "Assign `features` to an array of column names (strings) of the features from the `coordinates` table.\n",
    "\n",
    "*Hint: which of the column names in the `coordinates` table are the features, and which of the column names correspond to the class we're trying to predict?*\n",
    "\n",
    "<!--\n",
    "BEGIN QUESTION\n",
    "name: q1_3\n",
    "manual: false\n",
    "-->"
   ]
  },
  {
   "cell_type": "code",
   "execution_count": 11,
   "metadata": {
    "deletable": false
   },
   "outputs": [
    {
     "data": {
      "text/plain": [
       "array(['latitude', 'longitude'], dtype='<U9')"
      ]
     },
     "execution_count": 11,
     "metadata": {},
     "output_type": "execute_result"
    }
   ],
   "source": [
    "features = make_array(\"latitude\", \"longitude\")\n",
    "features"
   ]
  },
  {
   "cell_type": "code",
   "execution_count": 12,
   "metadata": {
    "deletable": false,
    "editable": false
   },
   "outputs": [
    {
     "name": "stdout",
     "output_type": "stream",
     "text": [
      "~~~~~~~~~~~~~~~~~~~~~~~~~~~~~~~~~~~~~~~~~~~~~~~~~~~~~~~~~~~~~~~~~~~~~\n",
      "Running tests\n",
      "\n",
      "---------------------------------------------------------------------\n",
      "Test summary\n",
      "    Passed: 1\n",
      "    Failed: 0\n",
      "[ooooooooook] 100.0% passed\n",
      "\n"
     ]
    }
   ],
   "source": [
    "ok.grade(\"q1_3\");"
   ]
  },
  {
   "cell_type": "markdown",
   "metadata": {
    "deletable": false,
    "editable": false
   },
   "source": [
    "<div class=\"hide\">\\pagebreak</div>\n",
    "\n",
    "#### Question 4\n",
    "\n",
    "Now define the `classify` function. This function should take in a `row` from a table like `test` and classify it based on the data in `train` using the `k`-Nearest Neighbors based on the correct `features`.\n",
    "\n",
    "*Hint: The `distance` function we defined earlier takes in arrays as input, so use the `row_to_array` function we defined for you to convert rows to arrays of features.*\n",
    "\n",
    "*Hint 2: the skeleton code we provided iterates through each row in the training set*\n",
    "\n",
    "A refresher on k-nearest neighbors can be found [here](https://www.inferentialthinking.com/chapters/17/4/Implementing_the_Classifier.html) in the textbook.\n",
    "\n",
    "<!--\n",
    "BEGIN QUESTION\n",
    "name: q1_4\n",
    "manual: false\n",
    "-->"
   ]
  },
  {
   "cell_type": "code",
   "execution_count": 13,
   "metadata": {},
   "outputs": [
    {
     "data": {
      "text/plain": [
       "Rows(latitude | longitude | school\n",
       "37.6605  | -122.121  | Berkeley\n",
       "37.8649  | -122.263  | Berkeley\n",
       "37.8774  | -122.265  | Berkeley\n",
       "37.4261  | -121.904  | Stanford\n",
       "37.8753  | -122.263  | Berkeley\n",
       "37.8813  | -122.265  | Berkeley\n",
       "37.4342  | -122.168  | Stanford\n",
       "37.8768  | -122.266  | Berkeley\n",
       "37.3587  | -121.942  | Berkeley\n",
       "37.8772  | -122.265  | Berkeley\n",
       "... (65 rows omitted))"
      ]
     },
     "execution_count": 13,
     "metadata": {},
     "output_type": "execute_result"
    }
   ],
   "source": [
    "train.rows"
   ]
  },
  {
   "cell_type": "code",
   "execution_count": 14,
   "metadata": {
    "deletable": false,
    "manual_grade": true,
    "manual_problem_id": "sign_lang_2"
   },
   "outputs": [
    {
     "data": {
      "text/plain": [
       "'Berkeley'"
      ]
     },
     "execution_count": 14,
     "metadata": {},
     "output_type": "execute_result"
    }
   ],
   "source": [
    "def row_to_array(row, features):\n",
    "    arr = make_array()\n",
    "    for feature in features:\n",
    "        arr = np.append(arr, row.item(feature))\n",
    "    return arr\n",
    "\n",
    "def classify(row, k, train):\n",
    "    test_row_features_array = row_to_array(row, features)\n",
    "    distances = make_array()\n",
    "    for train_row in train.rows:\n",
    "        train_row_features_array = row_to_array(train_row, features)\n",
    "        row_distance = distance(train_row_features_array, test_row_features_array)\n",
    "        distances = np.append(distances, row_distance)\n",
    "    train_with_distances = train.with_column(\"distances\", distances)\n",
    "    nearest_neighbors = train_with_distances.sort(\"distances\", descending = False).take(np.arange(k))\n",
    "    most_common_label = max(nearest_neighbors.column(\"school\"))\n",
    "    return most_common_label\n",
    "\n",
    "# Don't modify/delete the code below\n",
    "first_test = classify(test.row(0), 5, train)\n",
    "first_test"
   ]
  },
  {
   "cell_type": "code",
   "execution_count": 15,
   "metadata": {
    "deletable": false,
    "editable": false
   },
   "outputs": [
    {
     "name": "stdout",
     "output_type": "stream",
     "text": [
      "~~~~~~~~~~~~~~~~~~~~~~~~~~~~~~~~~~~~~~~~~~~~~~~~~~~~~~~~~~~~~~~~~~~~~\n",
      "Running tests\n",
      "\n",
      "---------------------------------------------------------------------\n",
      "Test summary\n",
      "    Passed: 2\n",
      "    Failed: 0\n",
      "[ooooooooook] 100.0% passed\n",
      "\n"
     ]
    }
   ],
   "source": [
    "ok.grade(\"q1_4\");"
   ]
  },
  {
   "cell_type": "markdown",
   "metadata": {
    "deletable": false,
    "editable": false
   },
   "source": [
    "<div class=\"hide\">\\pagebreak</div>\n",
    "\n",
    "#### Question 5\n",
    "\n",
    "Define the function `three_classify` that takes a `row` from `test` as an argument and classifies the row based on using 3-Nearest Neighbors. Use this function to find the `accuracy` of a 3-NN classifier on the `test` set. `accuracy` should be a proportion (not a percentage) of the schools that were correctly predicted.\n",
    "\n",
    "*Hint: you should be using a function you just created!*\n",
    "\n",
    "*Note: Usually before using a classifier on a test set, we'd classify first on a \"validation\" set, which we then can modify our training set again if need be, before actually testing on the test set. You don’t need to do that for this question, but you will learn about this more in Data 100.*\n",
    "\n",
    "<!--\n",
    "BEGIN QUESTION\n",
    "name: q1_5\n",
    "manual: false\n",
    "-->"
   ]
  },
  {
   "cell_type": "code",
   "execution_count": 16,
   "metadata": {
    "deletable": false,
    "manual_grade": true,
    "manual_problem_id": "sign_lang_3"
   },
   "outputs": [
    {
     "data": {
      "text/plain": [
       "1.0"
      ]
     },
     "execution_count": 16,
     "metadata": {},
     "output_type": "execute_result"
    }
   ],
   "source": [
    "def three_classify(row):\n",
    "    return classify(row, 3, train)\n",
    "\n",
    "test_with_prediction = test.with_column(\"prediction\", test.apply(three_classify))\n",
    "labels_correct = np.count_nonzero(test_with_prediction.column(\"school\") == test_with_prediction.column(\"prediction\"))\n",
    "accuracy = labels_correct / test_with_prediction.num_rows\n",
    "accuracy"
   ]
  },
  {
   "cell_type": "code",
   "execution_count": 17,
   "metadata": {
    "deletable": false,
    "editable": false
   },
   "outputs": [
    {
     "name": "stdout",
     "output_type": "stream",
     "text": [
      "~~~~~~~~~~~~~~~~~~~~~~~~~~~~~~~~~~~~~~~~~~~~~~~~~~~~~~~~~~~~~~~~~~~~~\n",
      "Running tests\n",
      "\n",
      "---------------------------------------------------------------------\n",
      "Test summary\n",
      "    Passed: 2\n",
      "    Failed: 0\n",
      "[ooooooooook] 100.0% passed\n",
      "\n"
     ]
    }
   ],
   "source": [
    "ok.grade(\"q1_5\");"
   ]
  },
  {
   "cell_type": "markdown",
   "metadata": {
    "deletable": false,
    "editable": false
   },
   "source": [
    "#### Question 6\n",
    "\n",
    "There are 77 rows of Berkeley students and 23 rows of Stanford students in the `coordinates` table. If we used the entire `coordinates` table as the train set, what is the smallest value of k that would ensure that a k-Nearest Neighbor classifier would always predict Berkeley as the class? Assign the value to `k`.\n",
    "\n",
    "<!--\n",
    "BEGIN QUESTION\n",
    "name: q1_6\n",
    "manual: false\n",
    "-->"
   ]
  },
  {
   "cell_type": "code",
   "execution_count": 18,
   "metadata": {},
   "outputs": [
    {
     "data": {
      "text/plain": [
       "1"
      ]
     },
     "execution_count": 18,
     "metadata": {},
     "output_type": "execute_result"
    }
   ],
   "source": [
    "k = 1\n",
    "k"
   ]
  },
  {
   "cell_type": "code",
   "execution_count": 19,
   "metadata": {
    "deletable": false,
    "editable": false
   },
   "outputs": [
    {
     "name": "stdout",
     "output_type": "stream",
     "text": [
      "~~~~~~~~~~~~~~~~~~~~~~~~~~~~~~~~~~~~~~~~~~~~~~~~~~~~~~~~~~~~~~~~~~~~~\n",
      "Running tests\n",
      "\n",
      "---------------------------------------------------------------------\n",
      "Test summary\n",
      "    Passed: 1\n",
      "    Failed: 0\n",
      "[ooooooooook] 100.0% passed\n",
      "\n"
     ]
    }
   ],
   "source": [
    "ok.grade(\"q1_6\");"
   ]
  },
  {
   "cell_type": "markdown",
   "metadata": {
    "deletable": false,
    "editable": false
   },
   "source": [
    "#### Question 7\n",
    "\n",
    "Why do we divide our data into a training and test set? Should we use our test set to find the best possible number of neighbors for a k-NN classifer? What is the point of a test set, and why do we only want to use the test set once? Explain your answer in 3 sentences or less. \n",
    "\n",
    "\n",
    "<!--\n",
    "BEGIN QUESTION\n",
    "name: q1_7\n",
    "manual: true\n",
    "-->\n",
    "<!-- EXPORT TO PDF -->"
   ]
  },
  {
   "cell_type": "markdown",
   "metadata": {
    "export_pdf": true
   },
   "source": [
    "We divide our data into a training set and a test set, so we know how effective our training data set is at predicting the location of a certain student in a new test set, as well as the population. No, we should not use our test set to find the best possible number of neighbors; rather, we should use a validation set. The point of a test set is to see how well the model does on data it has never seen before, which is why we can only use it once."
   ]
  },
  {
   "cell_type": "markdown",
   "metadata": {
    "deletable": false,
    "editable": false
   },
   "source": [
    "#### Question 8\n",
    "\n",
    "Why do we use an odd-numbered `k` in k-NN? Explain.\n",
    "\n",
    "\n",
    "<!--\n",
    "BEGIN QUESTION\n",
    "name: q1_8\n",
    "manual: true\n",
    "-->\n",
    "<!-- EXPORT TO PDF -->"
   ]
  },
  {
   "cell_type": "markdown",
   "metadata": {
    "export_pdf": true
   },
   "source": [
    "If we use an even number, there might be a tie in the binary classification that the neighbors predict. With an odd-numbered k, it is impossible to have a tie, and our model will always return a valid classification for the test set."
   ]
  },
  {
   "cell_type": "markdown",
   "metadata": {
    "deletable": false,
    "editable": false
   },
   "source": [
    "#### Question 9\n",
    "\n",
    "Thomas has devised a scheme for splitting up the test and training set. For each row from `coordinates`:\n",
    "\n",
    "- Rows for Stanford students have a 50% chance of being placed in the train set and 50% chance of placed in the test set.\n",
    "\n",
    "- Rows for Berkeley students have a 80% chance of being placed in the train set and 20% chance of placed in the test set.\n",
    "\n",
    "\n",
    "Given that a row is in the test set, what is the probability that it corresponds to a Stanford student? Assign that probability to `prob_furd`.\n",
    "\n",
    "*Hint: Remember that there are 77 Berkeley students and 23 Stanford students in `coordinates`*\n",
    "\n",
    "*Hint 2: Thomas' last name is Bayes*\n",
    "\n",
    "\n",
    "<!--\n",
    "BEGIN QUESTION\n",
    "name: q1_9\n",
    "manual: false\n",
    "-->"
   ]
  },
  {
   "cell_type": "code",
   "execution_count": 22,
   "metadata": {},
   "outputs": [
    {
     "data": {
      "text/plain": [
       "0.4275092936802974"
      ]
     },
     "execution_count": 22,
     "metadata": {},
     "output_type": "execute_result"
    }
   ],
   "source": [
    "prob_furd = (0.23*0.5) / (0.23*0.5 + 0.77*0.2)\n",
    "prob_furd"
   ]
  },
  {
   "cell_type": "code",
   "execution_count": 23,
   "metadata": {
    "deletable": false,
    "editable": false
   },
   "outputs": [
    {
     "name": "stdout",
     "output_type": "stream",
     "text": [
      "~~~~~~~~~~~~~~~~~~~~~~~~~~~~~~~~~~~~~~~~~~~~~~~~~~~~~~~~~~~~~~~~~~~~~\n",
      "Running tests\n",
      "\n",
      "---------------------------------------------------------------------\n",
      "Test summary\n",
      "    Passed: 2\n",
      "    Failed: 0\n",
      "[ooooooooook] 100.0% passed\n",
      "\n"
     ]
    }
   ],
   "source": [
    "ok.grade(\"q1_9\");"
   ]
  },
  {
   "cell_type": "markdown",
   "metadata": {},
   "source": [
    "Congrats, you've finished the last homework! Be sure to scroll down to complete the final feedback survey and the official Berkeley course evaluations form that you will receive via email. If 80% of the class fills out both surveys, everyone will receive 2 bonus points on the final exam."
   ]
  },
  {
   "cell_type": "markdown",
   "metadata": {},
   "source": [
    "## (OPTIONAL, NOT IN SCOPE): k-NN for Non-Binary Classification"
   ]
  },
  {
   "cell_type": "markdown",
   "metadata": {
    "deletable": false,
    "editable": false
   },
   "source": [
    "**THIS IS NOT IN SCOPE/IS OPTIONAL**. There are no autograder tests for this/code for you to write. It just relies on the function `classify` in Question 4.\n",
    "\n",
    "In this class, we have taught you how to use the kNN algorithm to classify data as one of two classes. However, much of the data you will encounter in the real world will not fall nicely into one of two categories. \n",
    "\n",
    "How can we classify data with non-binary classes? It turns out we can still use kNN! That is, we find the distance between a point and all its neighbors, find the nearest neighbors, and take a majority vote among the neighbors to determine this point's class. \n",
    "\n",
    "The only difference is that now the neighboring points have more than two possible classes. This does introduce difficulty because now we have no way of guaranteeing that we will not encounter ties between classes. In the case that we do encounter a tie, we can just arbitrarily choose one of the classes.\n",
    "\n",
    "In fact, you don't even have to modify the code you wrote before at all to enable multi-class classification!"
   ]
  },
  {
   "cell_type": "markdown",
   "metadata": {
    "deletable": false,
    "editable": false
   },
   "source": [
    "Let's add some more data to our train table, this time for another class of students, students at San Jose Community College (SJCC)."
   ]
  },
  {
   "cell_type": "code",
   "execution_count": 24,
   "metadata": {
    "deletable": false,
    "editable": false
   },
   "outputs": [],
   "source": [
    "coordinates_multi = coordinates.with_rows([\n",
    "                              [37.304346, -121.915401, \"SJCC\"],\n",
    "                              [37.316275, -121.913879, \"SJCC\"],\n",
    "                              [37.409435, -121.951379, \"SJCC\"],\n",
    "                              [37.349387, -121.960771, \"SJCC\"],\n",
    "                              [37.329083, -121.928479, \"SJCC\"],\n",
    "                              [37.313017, -121.866730, \"SJCC\"],\n",
    "                              [37.346525, -121.894767, \"SJCC\"],\n",
    "                              [37.364157, -121.955717, \"SJCC\"],\n",
    "                              [37.383362, -121.925776, \"SJCC\"],\n",
    "                              [37.329545, -121.880639, \"SJCC\"]                             \n",
    "])"
   ]
  },
  {
   "cell_type": "code",
   "execution_count": 25,
   "metadata": {
    "deletable": false,
    "editable": false
   },
   "outputs": [
    {
     "data": {
      "text/plain": [
       "'Berkeley'"
      ]
     },
     "execution_count": 25,
     "metadata": {},
     "output_type": "execute_result"
    }
   ],
   "source": [
    "classify(coordinates_multi.row(0), 5, coordinates_multi)"
   ]
  },
  {
   "cell_type": "code",
   "execution_count": 26,
   "metadata": {
    "deletable": false,
    "editable": false
   },
   "outputs": [
    {
     "data": {
      "text/plain": [
       "'Stanford'"
      ]
     },
     "execution_count": 26,
     "metadata": {},
     "output_type": "execute_result"
    }
   ],
   "source": [
    "classify(coordinates_multi.row(91), 5, coordinates_multi)"
   ]
  },
  {
   "cell_type": "code",
   "execution_count": 27,
   "metadata": {
    "deletable": false,
    "editable": false
   },
   "outputs": [
    {
     "data": {
      "text/plain": [
       "'SJCC'"
      ]
     },
     "execution_count": 27,
     "metadata": {},
     "output_type": "execute_result"
    }
   ],
   "source": [
    "classify(coordinates_multi.row(105), 5, coordinates_multi)"
   ]
  },
  {
   "cell_type": "markdown",
   "metadata": {},
   "source": [
    "Our classifier can classify rows as belonging to one of three classes!\n",
    "\n",
    "Classification is one of the most important fields in statistics, data science, and machine learning. There are thousands of different classification algorithms and modifications of algorithms! There are many that you'll learn if you continue down the path of becoming a data scientist!"
   ]
  },
  {
   "cell_type": "markdown",
   "metadata": {},
   "source": [
    "## 2. Final-Semester Survey\n"
   ]
  },
  {
   "cell_type": "markdown",
   "metadata": {},
   "source": [
    "You can find the end of semester feedback form [here](https://docs.google.com/forms/d/e/1FAIpQLSeI_K7XI2aHCw7Ke7Gi8quDFMjM2PfGJwBQHa-By0BzfZYszw/viewform). Please take some time to fill the survey out! Data 8 is still a relatively new class, and your feedback helps the class get better every semester!\n",
    "\n",
    "As incentive, if 80% of the course fills out this feedback form **and** the official Berkeley Course Evaluations (which will be released sometime in the next couple of weeks) for Data 8, everyone will receive two points of extra credit on the final!"
   ]
  },
  {
   "cell_type": "markdown",
   "metadata": {
    "deletable": false,
    "editable": false
   },
   "source": [
    "**Question 1.** Fill out the end of semester feedback form linked above. Once you have submitted, a secret word will be displayed. Set `secret_word` to the secret string at the end of the form.\n",
    "\n",
    "<!--\n",
    "BEGIN QUESTION\n",
    "name: q2_1\n",
    "manual: false\n",
    "-->"
   ]
  },
  {
   "cell_type": "code",
   "execution_count": 28,
   "metadata": {},
   "outputs": [],
   "source": [
    "secret_word = 'winterbreakhereicome'"
   ]
  },
  {
   "cell_type": "code",
   "execution_count": 29,
   "metadata": {
    "deletable": false,
    "editable": false
   },
   "outputs": [
    {
     "name": "stdout",
     "output_type": "stream",
     "text": [
      "~~~~~~~~~~~~~~~~~~~~~~~~~~~~~~~~~~~~~~~~~~~~~~~~~~~~~~~~~~~~~~~~~~~~~\n",
      "Running tests\n",
      "\n",
      "---------------------------------------------------------------------\n",
      "Test summary\n",
      "    Passed: 1\n",
      "    Failed: 0\n",
      "[ooooooooook] 100.0% passed\n",
      "\n"
     ]
    }
   ],
   "source": [
    "ok.grade(\"q2_1\");"
   ]
  },
  {
   "cell_type": "markdown",
   "metadata": {},
   "source": [
    "## 3. Submission\n"
   ]
  },
  {
   "cell_type": "markdown",
   "metadata": {
    "collapsed": true
   },
   "source": [
    "Once you're finished, select \"Save and Checkpoint\" in the File menu and then execute the `submit` cell below. The result will contain a link that you can use to check that your assignment has been submitted successfully. If you submit more than once before the deadline, we will only grade your final submission. If you mistakenly submit the wrong one, you can head to [okpy.org](https://okpy.org/) and flag the correct version. To do so, go to the website, click on this assignment, and find the version you would like to have graded. There should be an option to flag that submission for grading!"
   ]
  },
  {
   "cell_type": "code",
   "execution_count": null,
   "metadata": {},
   "outputs": [
    {
     "data": {
      "application/javascript": [
       "IPython.notebook.save_checkpoint();"
      ],
      "text/plain": [
       "<IPython.core.display.Javascript object>"
      ]
     },
     "metadata": {},
     "output_type": "display_data"
    }
   ],
   "source": [
    "_ = ok.submit()"
   ]
  },
  {
   "cell_type": "code",
   "execution_count": 36,
   "metadata": {
    "collapsed": true
   },
   "outputs": [],
   "source": [
    "# For your convenience, you can run this cell to run all the tests at once!\n",
    "import os\n",
    "print(\"Running all tests...\")\n",
    "_ = [ok.grade(q[:-3]) for q in os.listdir(\"tests\") if q.startswith('q') and len(q) <= 10]\n",
    "print(\"Finished running all tests.\")"
   ]
  }
 ],
 "metadata": {
  "kernelspec": {
   "display_name": "Python 3",
   "language": "python",
   "name": "python3"
  },
  "language_info": {
   "codemirror_mode": {
    "name": "ipython",
    "version": 3
   },
   "file_extension": ".py",
   "mimetype": "text/x-python",
   "name": "python",
   "nbconvert_exporter": "python",
   "pygments_lexer": "ipython3",
   "version": "3.8.6"
  }
 },
 "nbformat": 4,
 "nbformat_minor": 1
}
